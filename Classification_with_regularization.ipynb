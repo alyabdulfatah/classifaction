{
  "nbformat": 4,
  "nbformat_minor": 0,
  "metadata": {
    "colab": {
      "name": "Classification with regularization.ipynb",
      "provenance": [],
      "authorship_tag": "ABX9TyO/5b2q6DsiKWAacIFpmhIv",
      "include_colab_link": true
    },
    "kernelspec": {
      "name": "python3",
      "display_name": "Python 3"
    }
  },
  "cells": [
    {
      "cell_type": "markdown",
      "metadata": {
        "id": "view-in-github",
        "colab_type": "text"
      },
      "source": [
        "<a href=\"https://colab.research.google.com/github/alyabdulfatah/classifaction/blob/master/Classification_with_regularization.ipynb\" target=\"_parent\"><img src=\"https://colab.research.google.com/assets/colab-badge.svg\" alt=\"Open In Colab\"/></a>"
      ]
    },
    {
      "cell_type": "code",
      "metadata": {
        "id": "z2EHyn0w8M9B",
        "colab_type": "code",
        "colab": {}
      },
      "source": [
        "import numpy as np\n",
        "import pandas as pd\n",
        "import matplotlib.pyplot as plt\n",
        "import scipy.optimize as opt\n"
      ],
      "execution_count": 0,
      "outputs": []
    },
    {
      "cell_type": "code",
      "metadata": {
        "id": "oj6VWweo-IGg",
        "colab_type": "code",
        "colab": {}
      },
      "source": [
        "path = '/content/New Text Document (2).txt'\n",
        "data = pd.read_csv(path, header=None, names=['Test 1', 'Test 2', 'Accepted'])"
      ],
      "execution_count": 0,
      "outputs": []
    },
    {
      "cell_type": "code",
      "metadata": {
        "id": "VLNDKUG_-XSd",
        "colab_type": "code",
        "outputId": "20f8af04-a4eb-4aa0-83ba-c22f30cafa18",
        "colab": {
          "base_uri": "https://localhost:8080/",
          "height": 408
        }
      },
      "source": [
        "print('data = ')\n",
        "print(data.head(10) )\n",
        "print('................................................')\n",
        "print('data.describe = ')\n",
        "print(data.describe())"
      ],
      "execution_count": 0,
      "outputs": [
        {
          "output_type": "stream",
          "text": [
            "data = \n",
            "     Test 1    Test 2  Accepted\n",
            "0  0.051267  0.699560         1\n",
            "1 -0.092742  0.684940         1\n",
            "2 -0.213710  0.692250         1\n",
            "3 -0.375000  0.502190         1\n",
            "4 -0.513250  0.465640         1\n",
            "5 -0.524770  0.209800         1\n",
            "6 -0.398040  0.034357         1\n",
            "7 -0.305880 -0.192250         1\n",
            "8  0.016705 -0.404240         1\n",
            "9  0.131910 -0.513890         1\n",
            "................................................\n",
            "data.describe = \n",
            "           Test 1      Test 2    Accepted\n",
            "count  118.000000  118.000000  118.000000\n",
            "mean     0.054779    0.183102    0.491525\n",
            "std      0.496654    0.519743    0.502060\n",
            "min     -0.830070   -0.769740    0.000000\n",
            "25%     -0.372120   -0.254385    0.000000\n",
            "50%     -0.006336    0.213455    0.000000\n",
            "75%      0.478970    0.646562    1.000000\n",
            "max      1.070900    1.108900    1.000000\n"
          ],
          "name": "stdout"
        }
      ]
    },
    {
      "cell_type": "code",
      "metadata": {
        "id": "M9Epcq_7_DlX",
        "colab_type": "code",
        "outputId": "aabf4a8b-0240-4480-8476-6eb76ec8ed79",
        "colab": {
          "base_uri": "https://localhost:8080/",
          "height": 476
        }
      },
      "source": [
        "positive = data[data['Accepted'].isin([1])]\n",
        "negative = data[data['Accepted'].isin([0])]\n",
        "print('................................................')\n",
        "print('positive data')\n",
        "print(positive.head(10))\n",
        "print('................................................')\n",
        "print('negative data')\n",
        "print(negative.head(10))\n",
        "print('................................................')\n"
      ],
      "execution_count": 0,
      "outputs": [
        {
          "output_type": "stream",
          "text": [
            "................................................\n",
            "positive data\n",
            "     Test 1    Test 2  Accepted\n",
            "0  0.051267  0.699560         1\n",
            "1 -0.092742  0.684940         1\n",
            "2 -0.213710  0.692250         1\n",
            "3 -0.375000  0.502190         1\n",
            "4 -0.513250  0.465640         1\n",
            "5 -0.524770  0.209800         1\n",
            "6 -0.398040  0.034357         1\n",
            "7 -0.305880 -0.192250         1\n",
            "8  0.016705 -0.404240         1\n",
            "9  0.131910 -0.513890         1\n",
            "................................................\n",
            "negative data\n",
            "     Test 1    Test 2  Accepted\n",
            "58  0.18376  0.933480         0\n",
            "59  0.22408  0.779970         0\n",
            "60  0.29896  0.619150         0\n",
            "61  0.50634  0.758040         0\n",
            "62  0.61578  0.728800         0\n",
            "63  0.60426  0.597220         0\n",
            "64  0.76555  0.502190         0\n",
            "65  0.92684  0.363300         0\n",
            "66  0.82316  0.275580         0\n",
            "67  0.96141  0.085526         0\n",
            "................................................\n"
          ],
          "name": "stdout"
        }
      ]
    },
    {
      "cell_type": "code",
      "metadata": {
        "id": "ozC6RVvY-jdZ",
        "colab_type": "code",
        "outputId": "47963dd4-f1cc-4d73-b3db-66d1dd9a40f3",
        "colab": {
          "base_uri": "https://localhost:8080/",
          "height": 351
        }
      },
      "source": [
        "fig, ax = plt.subplots(figsize=(8,5))\n",
        "ax.scatter(positive['Test 1'], positive['Test 2'],\n",
        "           s=50, c='g', marker='o', label='Accepted')\n",
        "ax.scatter(negative['Test 1'], negative['Test 2'],\n",
        "           s=50, c='r', marker='x', label='Rejected')\n",
        "ax.legend()\n",
        "ax.set_xlabel('Test 1 Score')\n",
        "ax.set_ylabel('Test 2 Score')\n"
      ],
      "execution_count": 0,
      "outputs": [
        {
          "output_type": "execute_result",
          "data": {
            "text/plain": [
              "Text(0, 0.5, 'Test 2 Score')"
            ]
          },
          "metadata": {
            "tags": []
          },
          "execution_count": 6
        },
        {
          "output_type": "display_data",
          "data": {
            "image/png": "[encoded data removed]",
            "text/plain": [
              "<Figure size 576x360 with 1 Axes>"
            ]
          },
          "metadata": {
            "tags": [],
            "needs_background": "light"
          }
        }
      ]
    },
    {
      "cell_type": "code",
      "metadata": {
        "id": "_vkP_uz1-rTZ",
        "colab_type": "code",
        "outputId": "3b6e4002-7d15-4a6f-9d48-88c14f3e5bca",
        "colab": {
          "base_uri": "https://localhost:8080/",
          "height": 442
        }
      },
      "source": [
        "x1 = data['Test 1']\n",
        "x2 = data['Test 2']\n",
        "print('x1 \\n' ,x1.head(10))\n",
        "print('................................................')\n",
        "print('x2 \\n' ,x2.head(10))"
      ],
      "execution_count": 0,
      "outputs": [
        {
          "output_type": "stream",
          "text": [
            "x1 \n",
            " 0    0.051267\n",
            "1   -0.092742\n",
            "2   -0.213710\n",
            "3   -0.375000\n",
            "4   -0.513250\n",
            "5   -0.524770\n",
            "6   -0.398040\n",
            "7   -0.305880\n",
            "8    0.016705\n",
            "9    0.131910\n",
            "Name: Test 1, dtype: float64\n",
            "................................................\n",
            "x2 \n",
            " 0    0.699560\n",
            "1    0.684940\n",
            "2    0.692250\n",
            "3    0.502190\n",
            "4    0.465640\n",
            "5    0.209800\n",
            "6    0.034357\n",
            "7   -0.192250\n",
            "8   -0.404240\n",
            "9   -0.513890\n",
            "Name: Test 2, dtype: float64\n"
          ],
          "name": "stdout"
        }
      ]
    },
    {
      "cell_type": "code",
      "metadata": {
        "id": "cQp-pOVLAaGz",
        "colab_type": "code",
        "outputId": "605d9262-b2c1-4610-8eb7-55853e62983f",
        "colab": {
          "base_uri": "https://localhost:8080/",
          "height": 221
        }
      },
      "source": [
        "data.insert(3, 'Ones', 1)   # adding x0\n",
        "\n",
        "print('data \\n' , data.head(10))"
      ],
      "execution_count": 0,
      "outputs": [
        {
          "output_type": "stream",
          "text": [
            "data \n",
            "      Test 1    Test 2  Accepted  Ones\n",
            "0  0.051267  0.699560         1     1\n",
            "1 -0.092742  0.684940         1     1\n",
            "2 -0.213710  0.692250         1     1\n",
            "3 -0.375000  0.502190         1     1\n",
            "4 -0.513250  0.465640         1     1\n",
            "5 -0.524770  0.209800         1     1\n",
            "6 -0.398040  0.034357         1     1\n",
            "7 -0.305880 -0.192250         1     1\n",
            "8  0.016705 -0.404240         1     1\n",
            "9  0.131910 -0.513890         1     1\n"
          ],
          "name": "stdout"
        }
      ]
    },
    {
      "cell_type": "code",
      "metadata": {
        "id": "AViAADuOApQv",
        "colab_type": "code",
        "outputId": "9752b8e8-2565-4f0e-d0b6-1642a6cfbcef",
        "colab": {
          "base_uri": "https://localhost:8080/",
          "height": 255
        }
      },
      "source": [
        "'''\n",
        "x1 + x1^2 + x1x2 + x1^3 + x1^2 x2 + x1 x2^2 + x1^4 + x1^3 x2 + x1^2 x2^2 + x1 x2^3\n",
        "\n",
        "\n",
        "F10 = x1\n",
        "\n",
        "F20 = x1^2\n",
        "F21 = x1 x2\n",
        "\n",
        "F30 = x1^3\n",
        "F31 = x1^2 x2\n",
        "F32 = x1 x2^2\n",
        "\n",
        "F40 = x1^4\n",
        "F41 = x1^3 x2\n",
        "F42 = x1^2 x2^2\n",
        "F43 = x1 x2^3 \n",
        "\n",
        "'''\n",
        "degree = 5\n",
        "for i in range(1, degree): # 1,2,3,4\n",
        "    for j in range(0, i):  # 0 , 1 , 2 ,3\n",
        "        data['F' + str(i) + str(j)] = np.power(x1, i-j) * np.power(x2, j) # i=3 , j=2\n",
        "\n",
        "data.drop('Test 1', axis=1, inplace=True)\n",
        "data.drop('Test 2', axis=1, inplace=True)\n",
        "\n",
        "print('data \\n' , data.head(10))\n"
      ],
      "execution_count": 0,
      "outputs": [
        {
          "output_type": "stream",
          "text": [
            "data \n",
            "    Accepted  Ones       F10  ...       F41       F42       F43\n",
            "0         1     1  0.051267  ...  0.000094  0.001286  0.017551\n",
            "1         1     1 -0.092742  ... -0.000546  0.004035 -0.029801\n",
            "2         1     1 -0.213710  ... -0.006757  0.021886 -0.070895\n",
            "3         1     1 -0.375000  ... -0.026483  0.035465 -0.047494\n",
            "4         1     1 -0.513250  ... -0.062956  0.057116 -0.051818\n",
            "5         1     1 -0.524770  ... -0.030319  0.012121 -0.004846\n",
            "6         1     1 -0.398040  ... -0.002167  0.000187 -0.000016\n",
            "7         1     1 -0.305880  ...  0.005502  0.003458  0.002173\n",
            "8         1     1  0.016705  ... -0.000002  0.000046 -0.001103\n",
            "9         1     1  0.131910  ... -0.001180  0.004595 -0.017901\n",
            "\n",
            "[10 rows x 12 columns]\n"
          ],
          "name": "stdout"
        }
      ]
    },
    {
      "cell_type": "code",
      "metadata": {
        "id": "cOSY2lpVDwE6",
        "colab_type": "code",
        "colab": {}
      },
      "source": [
        "def sigmoid(z):\n",
        "    return 1 / (1 + np.exp(-z))\n"
      ],
      "execution_count": 0,
      "outputs": []
    },
    {
      "cell_type": "code",
      "metadata": {
        "id": "Rv2Odh5pFHK1",
        "colab_type": "code",
        "colab": {}
      },
      "source": [
        "def costReg(theta, X, y, lr ):\n",
        "    theta = np.matrix(theta)\n",
        "    X = np.matrix(X)\n",
        "    y = np.matrix(y)\n",
        "    first = np.multiply(-y, np.log(sigmoid(X * theta.T)))\n",
        "    second = np.multiply((1 - y), np.log(1 - sigmoid(X * theta.T)))\n",
        "    reg = (lr / 2 * len(X)) * np.sum(np.power(theta[:,1:theta.shape[1]], 2))\n",
        "    \n",
        "     \n",
        "    return np.sum(first - second) / (len(X)) + reg\n"
      ],
      "execution_count": 0,
      "outputs": []
    },
    {
      "cell_type": "code",
      "metadata": {
        "id": "d3HnHFMhFOKR",
        "colab_type": "code",
        "colab": {}
      },
      "source": [
        "def gradientReg(theta, X, y, learningRate):\n",
        "    theta = np.matrix(theta)\n",
        "    X = np.matrix(X)\n",
        "    y = np.matrix(y)\n",
        "    \n",
        "    parameters = int(theta.ravel().shape[1])\n",
        "    grad = np.zeros(parameters)\n",
        "    \n",
        "    error = sigmoid(X * theta.T) - y\n",
        "    \n",
        "    for i in range(parameters):\n",
        "        term = np.multiply(error, X[:,i])\n",
        "        \n",
        "        if (i == 0):\n",
        "            grad[i] = np.sum(term) / len(X)\n",
        "        else:\n",
        "            grad[i] =(np.sum(term)/len(X))+((learningRate/len(X))*theta[:,i])\n",
        "    \n",
        "    return grad\n"
      ],
      "execution_count": 0,
      "outputs": []
    },
    {
      "cell_type": "code",
      "metadata": {
        "id": "EgTD2_VgFS3P",
        "colab_type": "code",
        "colab": {
          "base_uri": "https://localhost:8080/",
          "height": 34
        },
        "outputId": "d42544b7-0717-42e7-f62e-be053ef26a08"
      },
      "source": [
        "# set X and y (remember from above that we moved the label to column 0)\n",
        "cols = data.shape[1]\n",
        "print('cols = ' , cols)\n"
      ],
      "execution_count": 18,
      "outputs": [
        {
          "output_type": "stream",
          "text": [
            "cols =  12\n"
          ],
          "name": "stdout"
        }
      ]
    },
    {
      "cell_type": "code",
      "metadata": {
        "id": "06W8_pViFWjy",
        "colab_type": "code",
        "colab": {
          "base_uri": "https://localhost:8080/",
          "height": 459
        },
        "outputId": "6432f1ae-91ae-467d-e3ef-63048a6bc681"
      },
      "source": [
        "X2 = data.iloc[:,1:cols]\n",
        "print('X2 = ')\n",
        "print(X2.head(10))\n",
        "y2 = data.iloc[:,0:1]\n",
        "print('y2 = ')\n",
        "print(y2.head(10))"
      ],
      "execution_count": 19,
      "outputs": [
        {
          "output_type": "stream",
          "text": [
            "X2 = \n",
            "   Ones       F10       F20  ...       F41       F42       F43\n",
            "0     1  0.051267  0.002628  ...  0.000094  0.001286  0.017551\n",
            "1     1 -0.092742  0.008601  ... -0.000546  0.004035 -0.029801\n",
            "2     1 -0.213710  0.045672  ... -0.006757  0.021886 -0.070895\n",
            "3     1 -0.375000  0.140625  ... -0.026483  0.035465 -0.047494\n",
            "4     1 -0.513250  0.263426  ... -0.062956  0.057116 -0.051818\n",
            "5     1 -0.524770  0.275384  ... -0.030319  0.012121 -0.004846\n",
            "6     1 -0.398040  0.158436  ... -0.002167  0.000187 -0.000016\n",
            "7     1 -0.305880  0.093563  ...  0.005502  0.003458  0.002173\n",
            "8     1  0.016705  0.000279  ... -0.000002  0.000046 -0.001103\n",
            "9     1  0.131910  0.017400  ... -0.001180  0.004595 -0.017901\n",
            "\n",
            "[10 rows x 11 columns]\n",
            "y2 = \n",
            "   Accepted\n",
            "0         1\n",
            "1         1\n",
            "2         1\n",
            "3         1\n",
            "4         1\n",
            "5         1\n",
            "6         1\n",
            "7         1\n",
            "8         1\n",
            "9         1\n"
          ],
          "name": "stdout"
        }
      ]
    },
    {
      "cell_type": "code",
      "metadata": {
        "id": "S3gqbDZlF4Rn",
        "colab_type": "code",
        "colab": {
          "base_uri": "https://localhost:8080/",
          "height": 34
        },
        "outputId": "cf38aa89-4e1f-4556-a997-f6b7482e399d"
      },
      "source": [
        "# convert to numpy arrays and initalize the parameter array theta\n",
        "X2 = np.array(X2.values)\n",
        "y2 = np.array(y2.values)\n",
        "theta2 = np.zeros(X2.shape[1])\n",
        "\n",
        "print('theta 2 = ' , theta2)"
      ],
      "execution_count": 20,
      "outputs": [
        {
          "output_type": "stream",
          "text": [
            "theta 2 =  [0. 0. 0. 0. 0. 0. 0. 0. 0. 0. 0.]\n"
          ],
          "name": "stdout"
        }
      ]
    },
    {
      "cell_type": "code",
      "metadata": {
        "id": "7cT-Pu34Gba9",
        "colab_type": "code",
        "colab": {
          "base_uri": "https://localhost:8080/",
          "height": 34
        },
        "outputId": "1711fa45-52ae-4895-e1d8-d225571d2141"
      },
      "source": [
        "learningRate = 0.000001  #alpha\n",
        "rcost = costReg(theta2, X2, y2, learningRate)\n",
        "print('regularized cost = ' , rcost)"
      ],
      "execution_count": 48,
      "outputs": [
        {
          "output_type": "stream",
          "text": [
            "regularized cost =  0.6931471805599454\n"
          ],
          "name": "stdout"
        }
      ]
    },
    {
      "cell_type": "code",
      "metadata": {
        "id": "zk_3yKOvIJ34",
        "colab_type": "code",
        "colab": {
          "base_uri": "https://localhost:8080/",
          "height": 68
        },
        "outputId": "2b1ca367-516c-4892-b6da-c72d7ea4d57b"
      },
      "source": [
        "result = opt.fmin_tnc(func=costReg, x0=theta2, fprime=gradientReg,\n",
        "                      args=(X2, y2, learningRate))\n",
        "print( 'result = ' , result )"
      ],
      "execution_count": 49,
      "outputs": [
        {
          "output_type": "stream",
          "text": [
            "result =  (array([  0.79755   ,   1.04532695,   4.46139482,  -7.47929797,\n",
            "         2.11743395,   6.11027039,  -1.1949781 , -11.81500485,\n",
            "         2.48935704, -22.92615515,   6.87510966]), 96, 4)\n"
          ],
          "name": "stdout"
        }
      ]
    },
    {
      "cell_type": "code",
      "metadata": {
        "id": "oh33sFASIy3j",
        "colab_type": "code",
        "colab": {
          "base_uri": "https://localhost:8080/",
          "height": 34
        },
        "outputId": "cdaf92f5-6376-402a-e879-b181f5ac1285"
      },
      "source": [
        "def predict(theta, X):\n",
        "    probability = sigmoid(X * theta.T)\n",
        "    return [1 if x >= 0.5 else 0 for x in probability]\n",
        "\n",
        "theta_min = np.matrix(result[0])\n",
        "predictions = predict(theta_min, X2)\n",
        "correct = [1 if ((a == 1 and b == 1) or (a == 0 and b == 0)) else 0 for (a, b) in zip(predictions, y2)]\n",
        "accuracy = (sum(map(int, correct)) % len(correct))\n",
        "print ('accuracy = {0}%'.format(accuracy))\n"
      ],
      "execution_count": 50,
      "outputs": [
        {
          "output_type": "stream",
          "text": [
            "accuracy = 90%\n"
          ],
          "name": "stdout"
        }
      ]
    },
    {
      "cell_type": "code",
      "metadata": {
        "id": "-pw6vfV6I8BZ",
        "colab_type": "code",
        "colab": {}
      },
      "source": [
        ""
      ],
      "execution_count": 0,
      "outputs": []
    }
  ]
}