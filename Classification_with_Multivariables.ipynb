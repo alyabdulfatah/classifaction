{
  "nbformat": 4,
  "nbformat_minor": 0,
  "metadata": {
    "colab": {
      "name": "Classification with Multivariables.ipynb",
      "provenance": [],
      "authorship_tag": "ABX9TyOKtIx47sYuEQcNGeceigTO",
      "include_colab_link": true
    },
    "kernelspec": {
      "name": "python3",
      "display_name": "Python 3"
    }
  },
  "cells": [
    {
      "cell_type": "markdown",
      "metadata": {
        "id": "view-in-github",
        "colab_type": "text"
      },
      "source": [
        "<a href=\"https://colab.research.google.com/github/alyabdulfatah/classifaction/blob/master/Classification_with_Multivariables.ipynb\" target=\"_parent\"><img src=\"https://colab.research.google.com/assets/colab-badge.svg\" alt=\"Open In Colab\"/></a>"
      ]
    },
    {
      "cell_type": "code",
      "metadata": {
        "id": "yDVIs9jsLcWv",
        "colab_type": "code",
        "colab": {}
      },
      "source": [
        "import numpy as np\n",
        "from scipy.io import loadmat"
      ],
      "execution_count": 0,
      "outputs": []
    },
    {
      "cell_type": "code",
      "metadata": {
        "id": "VIfFqVaALwSf",
        "colab_type": "code",
        "outputId": "1522d33a-b741-4c23-a6d4-1e99d42482e0",
        "colab": {
          "base_uri": "https://localhost:8080/",
          "height": 258
        }
      },
      "source": [
        "data = loadmat('/content/data.mat')\n",
        "print(data)"
      ],
      "execution_count": 29,
      "outputs": [
        {
          "output_type": "stream",
          "text": [
            "{'__header__': b'MATLAB 5.0 MAT-file, Platform: GLNXA64, Created on: Sun Oct 16 13:09:09 2011', '__version__': '1.0', '__globals__': [], 'X': array([[0., 0., 0., ..., 0., 0., 0.],\n",
            "       [0., 0., 0., ..., 0., 0., 0.],\n",
            "       [0., 0., 0., ..., 0., 0., 0.],\n",
            "       ...,\n",
            "       [0., 0., 0., ..., 0., 0., 0.],\n",
            "       [0., 0., 0., ..., 0., 0., 0.],\n",
            "       [0., 0., 0., ..., 0., 0., 0.]]), 'y': array([[10],\n",
            "       [10],\n",
            "       [10],\n",
            "       ...,\n",
            "       [ 9],\n",
            "       [ 9],\n",
            "       [ 9]], dtype=uint8)}\n"
          ],
          "name": "stdout"
        }
      ]
    },
    {
      "cell_type": "code",
      "metadata": {
        "id": "6Q8KvQalMAsc",
        "colab_type": "code",
        "colab": {
          "base_uri": "https://localhost:8080/",
          "height": 68
        },
        "outputId": "fe969e3b-47b8-46ce-fe17-8416e361e19d"
      },
      "source": [
        "#print(data) \n",
        "#print(data['X']) \n",
        "#print(data['y'])\n",
        "#print(data['X'][0]) \n",
        "print(data['X'][0][155]) \n",
        "\n",
        "print('X Shape = ' ,  data['X'].shape) \n",
        "print('Y Shape = ', data['y'].shape)"
      ],
      "execution_count": 30,
      "outputs": [
        {
          "output_type": "stream",
          "text": [
            "0.9017626506597092\n",
            "X Shape =  (5000, 400)\n",
            "Y Shape =  (5000, 1)\n"
          ],
          "name": "stdout"
        }
      ]
    },
    {
      "cell_type": "code",
      "metadata": {
        "id": "Q8iaJrAEMLWm",
        "colab_type": "code",
        "colab": {}
      },
      "source": [
        "def sigmoid(z):\n",
        "    return 1 / (1 + np.exp(-z))"
      ],
      "execution_count": 0,
      "outputs": []
    },
    {
      "cell_type": "code",
      "metadata": {
        "id": "6OlMLoKvM83S",
        "colab_type": "code",
        "colab": {}
      },
      "source": [
        "def cost(theta, X, y, learningRate):\n",
        "    theta = np.matrix(theta)\n",
        "    X = np.matrix(X)\n",
        "    y = np.matrix(y)\n",
        "    first = np.multiply(-y, np.log(sigmoid(X * theta.T)))\n",
        "    second = np.multiply((1 - y), np.log(1 - sigmoid(X * theta.T)))\n",
        "    reg = (learningRate / 2 * len(X)) * np.sum(np.power(theta[:,1:theta.shape[1]], 2))\n",
        "    return np.sum(first - second) / (len(X)) + reg\n"
      ],
      "execution_count": 0,
      "outputs": []
    },
    {
      "cell_type": "code",
      "metadata": {
        "id": "eJ65CJe1NBWd",
        "colab_type": "code",
        "colab": {}
      },
      "source": [
        "def gradient_with_loop(theta, X, y, learningRate):\n",
        "    theta = np.matrix(theta)\n",
        "    X = np.matrix(X)\n",
        "    y = np.matrix(y)\n",
        "    \n",
        "    parameters = int(theta.ravel().shape[1])\n",
        "    grad = np.zeros(parameters)\n",
        "    \n",
        "    error = sigmoid(X * theta.T) - y\n",
        "    \n",
        "    for i in range(parameters):\n",
        "        term = np.multiply(error, X[:,i])\n",
        "        \n",
        "        if (i == 0):\n",
        "            grad[i] = np.sum(term) / len(X)\n",
        "        else:\n",
        "            grad[i] = (np.sum(term) / len(X)) + ((learningRate / len(X)) * theta[:,i])\n",
        "    \n",
        "    return grad"
      ],
      "execution_count": 0,
      "outputs": []
    },
    {
      "cell_type": "code",
      "metadata": {
        "id": "B_qjHy0ZOYUA",
        "colab_type": "code",
        "colab": {}
      },
      "source": [
        "def gradient(theta, X, y, learningRate):\n",
        "    theta = np.matrix(theta)\n",
        "    X = np.matrix(X)\n",
        "    y = np.matrix(y)\n",
        "    \n",
        "    parameters = int(theta.ravel().shape[1])\n",
        "    error = sigmoid(X * theta.T) - y\n",
        "    \n",
        "    grad = ((X.T * error) / len(X)).T + ((learningRate / len(X)) * theta)\n",
        "    \n",
        "    # intercept gradient is not regularized\n",
        "    grad[0, 0] = np.sum(np.multiply(error, X[:,0])) / len(X)\n",
        "    \n",
        "    return np.array(grad).ravel()"
      ],
      "execution_count": 0,
      "outputs": []
    },
    {
      "cell_type": "code",
      "metadata": {
        "id": "t_HfZrhdOdqY",
        "colab_type": "code",
        "colab": {}
      },
      "source": [
        "from scipy.optimize import minimize"
      ],
      "execution_count": 0,
      "outputs": []
    },
    {
      "cell_type": "code",
      "metadata": {
        "id": "f-3cjf1VOgZu",
        "colab_type": "code",
        "colab": {}
      },
      "source": [
        "def one_vs_all(X, y, num_labels, learning_rate):\n",
        "    rows = X.shape[0] #5000\n",
        "    params = X.shape[1] #400\n",
        "    \n",
        "    # k X (n + 1) array for the parameters of each of the k classifiers\n",
        "    all_theta = np.zeros((num_labels, params + 1))\n",
        "    \n",
        "    print('all_theta shape ' , all_theta.shape)\n",
        "    # insert a column of ones at the beginning for the intercept term\n",
        "    X = np.insert(X, 0, values=np.ones(rows), axis=1)\n",
        "    print('X shape ' , X.shape)\n",
        "    \n",
        "    # labels are 1-indexed instead of 0-indexed\n",
        "    for i in range(1, num_labels + 1):\n",
        "        theta = np.zeros(params + 1)\n",
        "        y_i = np.array([1 if label == i else 0 for label in y])\n",
        "        y_i = np.reshape(y_i, (rows, 1))\n",
        "        \n",
        "        # minimize the objective function\n",
        "        fmin = minimize(fun=cost, x0=theta, args=(X, y_i, learning_rate), method='TNC', jac=gradient)\n",
        "        all_theta[i-1,:] = fmin.x\n",
        "    \n",
        "    return all_theta\n"
      ],
      "execution_count": 0,
      "outputs": []
    },
    {
      "cell_type": "code",
      "metadata": {
        "id": "uQJJNerOO6XD",
        "colab_type": "code",
        "colab": {
          "base_uri": "https://localhost:8080/",
          "height": 51
        },
        "outputId": "fba7de68-ba4a-4cd5-e730-aad3ccab91fa"
      },
      "source": [
        "rows = data['X'].shape[0]    #5000 in data\n",
        "params = data['X'].shape[1]  #400\n",
        "\n",
        "print('rows = ' ,rows)\n",
        "print('params = ' , params)\n"
      ],
      "execution_count": 37,
      "outputs": [
        {
          "output_type": "stream",
          "text": [
            "rows =  5000\n",
            "params =  400\n"
          ],
          "name": "stdout"
        }
      ]
    },
    {
      "cell_type": "code",
      "metadata": {
        "id": "gCPXCkVaPUSJ",
        "colab_type": "code",
        "colab": {
          "base_uri": "https://localhost:8080/",
          "height": 187
        },
        "outputId": "79450aef-75ab-4707-ca4c-bf6e2180fa23"
      },
      "source": [
        "all_theta = np.zeros((10, params + 1))\n",
        "\n",
        "print('all_theta \\n' , all_theta)\n",
        "print('all_theta shape \\n' , all_theta.shape)"
      ],
      "execution_count": 38,
      "outputs": [
        {
          "output_type": "stream",
          "text": [
            "all_theta \n",
            " [[0. 0. 0. ... 0. 0. 0.]\n",
            " [0. 0. 0. ... 0. 0. 0.]\n",
            " [0. 0. 0. ... 0. 0. 0.]\n",
            " ...\n",
            " [0. 0. 0. ... 0. 0. 0.]\n",
            " [0. 0. 0. ... 0. 0. 0.]\n",
            " [0. 0. 0. ... 0. 0. 0.]]\n",
            "all_theta shape \n",
            " (10, 401)\n"
          ],
          "name": "stdout"
        }
      ]
    },
    {
      "cell_type": "code",
      "metadata": {
        "id": "cwMQR2myPivd",
        "colab_type": "code",
        "colab": {
          "base_uri": "https://localhost:8080/",
          "height": 34
        },
        "outputId": "7da04ade-d597-4914-d6a5-42aaeb6e4a42"
      },
      "source": [
        "X = np.insert(data['X'], 0, values=np.ones(rows), axis=1)\n",
        "print('X Shape = ' ,  X.shape) "
      ],
      "execution_count": 39,
      "outputs": [
        {
          "output_type": "stream",
          "text": [
            "X Shape =  (5000, 401)\n"
          ],
          "name": "stdout"
        }
      ]
    },
    {
      "cell_type": "code",
      "metadata": {
        "id": "DK813770QF-z",
        "colab_type": "code",
        "colab": {}
      },
      "source": [
        "theta = np.zeros(params + 1)"
      ],
      "execution_count": 0,
      "outputs": []
    },
    {
      "cell_type": "code",
      "metadata": {
        "id": "Az3aOvIuQd8d",
        "colab_type": "code",
        "colab": {
          "base_uri": "https://localhost:8080/",
          "height": 34
        },
        "outputId": "02532ae3-555f-4ae9-ba60-d65629b9b77b"
      },
      "source": [
        "y_0 = np.array([1 if label == 0 else 0 for label in data['y']])\n",
        "print(y_0.shape)"
      ],
      "execution_count": 41,
      "outputs": [
        {
          "output_type": "stream",
          "text": [
            "(5000,)\n"
          ],
          "name": "stdout"
        }
      ]
    },
    {
      "cell_type": "code",
      "metadata": {
        "id": "OAt9VyVbRamf",
        "colab_type": "code",
        "colab": {
          "base_uri": "https://localhost:8080/",
          "height": 34
        },
        "outputId": "4493a93a-ce88-47a3-c08e-e7dd9f59af40"
      },
      "source": [
        "y_0 = np.reshape(y_0, (rows, 1))\n",
        "print(y_0.shape)"
      ],
      "execution_count": 42,
      "outputs": [
        {
          "output_type": "stream",
          "text": [
            "(5000, 1)\n"
          ],
          "name": "stdout"
        }
      ]
    },
    {
      "cell_type": "code",
      "metadata": {
        "id": "z-7QIO69RxN4",
        "colab_type": "code",
        "colab": {
          "base_uri": "https://localhost:8080/",
          "height": 204
        },
        "outputId": "fda0a83f-c3a1-42da-e6d3-785e043e910c"
      },
      "source": [
        "print()\n",
        "print('X.shape = ',X.shape)\n",
        "print()\n",
        "print('y.shape = ',y_0.shape)\n",
        "print()\n",
        "print('theta.shape = ',theta.shape)\n",
        "print()\n",
        "print('all_theta.shape = ',all_theta.shape)\n",
        "\n",
        "print()\n",
        "print('data array = ' , np.unique(data['y']))\n",
        "print()"
      ],
      "execution_count": 43,
      "outputs": [
        {
          "output_type": "stream",
          "text": [
            "\n",
            "X.shape =  (5000, 401)\n",
            "\n",
            "y.shape =  (5000, 1)\n",
            "\n",
            "theta.shape =  (401,)\n",
            "\n",
            "all_theta.shape =  (10, 401)\n",
            "\n",
            "data array =  [ 1  2  3  4  5  6  7  8  9 10]\n",
            "\n"
          ],
          "name": "stdout"
        }
      ]
    },
    {
      "cell_type": "code",
      "metadata": {
        "id": "nnZOQ7MMSE1m",
        "colab_type": "code",
        "colab": {
          "base_uri": "https://localhost:8080/",
          "height": 68
        },
        "outputId": "dfd7cf39-8559-4731-ebd9-4b68bafc691c"
      },
      "source": [
        "all_theta = one_vs_all(data['X'], data['y'], 10, 1)\n",
        "\n",
        "print('Theta shape =   ' , all_theta.shape)\n"
      ],
      "execution_count": 54,
      "outputs": [
        {
          "output_type": "stream",
          "text": [
            "all_theta shape  (100, 401)\n",
            "X shape  (5000, 401)\n",
            "Theta shape =    (100, 401)\n"
          ],
          "name": "stdout"
        }
      ]
    },
    {
      "cell_type": "code",
      "metadata": {
        "id": "KBH0iC0-SZ5d",
        "colab_type": "code",
        "colab": {
          "base_uri": "https://localhost:8080/",
          "height": 255
        },
        "outputId": "3f67253c-7edd-460c-bac1-e5b3ed5eaed7"
      },
      "source": [
        "#print('Theta = ')\n",
        "#print(all_theta)\n"
      ],
      "execution_count": 55,
      "outputs": [
        {
          "output_type": "stream",
          "text": [
            "Theta = \n",
            "[[-3.70247931e-05  0.00000000e+00  0.00000000e+00 ... -2.24803602e-10\n",
            "   2.31962907e-11  0.00000000e+00]\n",
            " [-8.96250716e-05  0.00000000e+00  0.00000000e+00 ...  7.26120810e-09\n",
            "  -6.19965284e-10  0.00000000e+00]\n",
            " [-8.39553387e-05  0.00000000e+00  0.00000000e+00 ... -7.61695633e-10\n",
            "   4.64917656e-11  0.00000000e+00]\n",
            " ...\n",
            " [-2.93489055e-04  0.00000000e+00  0.00000000e+00 ... -7.79980562e-10\n",
            "  -3.04839302e-11  0.00000000e+00]\n",
            " [-2.93489055e-04  0.00000000e+00  0.00000000e+00 ... -7.79980562e-10\n",
            "  -3.04839302e-11  0.00000000e+00]\n",
            " [-2.93489055e-04  0.00000000e+00  0.00000000e+00 ... -7.79980562e-10\n",
            "  -3.04839302e-11  0.00000000e+00]]\n"
          ],
          "name": "stdout"
        }
      ]
    },
    {
      "cell_type": "code",
      "metadata": {
        "id": "R-HN-D3sTjeY",
        "colab_type": "code",
        "colab": {}
      },
      "source": [
        "def predict_all(X, all_theta):\n",
        "    rows = X.shape[0]\n",
        "    params = X.shape[1]\n",
        "    num_labels = all_theta.shape[0]\n",
        "    \n",
        "    # same as before, insert ones to match the shape\n",
        "    X = np.insert(X, 0, values=np.ones(rows), axis=1)\n",
        "    \n",
        "    # convert to matrices\n",
        "    X = np.matrix(X)\n",
        "    all_theta = np.matrix(all_theta)\n",
        "    \n",
        "    # compute the class probability for each class on each training instance\n",
        "    h = sigmoid(X * all_theta.T)\n",
        "    \n",
        "    # create array of the index with the maximum probability\n",
        "    h_argmax = np.argmax(h, axis=1)\n",
        "    \n",
        "    # because our array was zero-indexed we need to add one for the true label prediction\n",
        "    h_argmax = h_argmax + 1\n",
        "    \n",
        "    return h_argmax"
      ],
      "execution_count": 0,
      "outputs": []
    },
    {
      "cell_type": "code",
      "metadata": {
        "id": "cs0ko02AT3M1",
        "colab_type": "code",
        "colab": {}
      },
      "source": [
        "y_pred = predict_all(data['X'], all_theta)"
      ],
      "execution_count": 0,
      "outputs": []
    },
    {
      "cell_type": "code",
      "metadata": {
        "id": "T90WzQfjT8gd",
        "colab_type": "code",
        "colab": {
          "base_uri": "https://localhost:8080/",
          "height": 34
        },
        "outputId": "5552fc59-fa70-4137-abc5-ad9b0e7f0b3a"
      },
      "source": [
        "correct = [1 if a == b else 0 for (a, b) in zip(y_pred, data['y'])]\n",
        "accuracy = (sum(map(int, correct)) / float(len(correct)))\n",
        "print ('accuracy = {0}%'.format(accuracy * 100))"
      ],
      "execution_count": 58,
      "outputs": [
        {
          "output_type": "stream",
          "text": [
            "accuracy = 74.6%\n"
          ],
          "name": "stdout"
        }
      ]
    },
    {
      "cell_type": "code",
      "metadata": {
        "id": "JXobmmphT_4T",
        "colab_type": "code",
        "colab": {}
      },
      "source": [
        ""
      ],
      "execution_count": 0,
      "outputs": []
    }
  ]
}